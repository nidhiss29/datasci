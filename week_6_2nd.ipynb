{
  "cells": [
    {
      "cell_type": "markdown",
      "metadata": {
        "id": "8WD1vgQJ5BmP"
      },
      "source": [
        "## Classes And OOPS"
      ]
    },
    {
      "cell_type": "code",
      "execution_count": null,
      "metadata": {
        "id": "3x0JKUA55BmS"
      },
      "outputs": [],
      "source": [
        "## Empty class\n",
        "class Person:\n",
        "    pass"
      ]
    },
    {
      "cell_type": "code",
      "execution_count": null,
      "metadata": {
        "id": "LrhUI2H45BmT"
      },
      "outputs": [],
      "source": [
        "a=[1,2,3,4]"
      ]
    },
    {
      "cell_type": "code",
      "execution_count": null,
      "metadata": {
        "id": "HXzjrI_d5BmT",
        "outputId": "f1953d85-9c97-4eba-eb7c-88729b4c6b44"
      },
      "outputs": [
        {
          "data": {
            "text/plain": [
              "['__add__',\n",
              " '__class__',\n",
              " '__contains__',\n",
              " '__delattr__',\n",
              " '__delitem__',\n",
              " '__dir__',\n",
              " '__doc__',\n",
              " '__eq__',\n",
              " '__format__',\n",
              " '__ge__',\n",
              " '__getattribute__',\n",
              " '__getitem__',\n",
              " '__gt__',\n",
              " '__hash__',\n",
              " '__iadd__',\n",
              " '__imul__',\n",
              " '__init__',\n",
              " '__init_subclass__',\n",
              " '__iter__',\n",
              " '__le__',\n",
              " '__len__',\n",
              " '__lt__',\n",
              " '__mul__',\n",
              " '__ne__',\n",
              " '__new__',\n",
              " '__reduce__',\n",
              " '__reduce_ex__',\n",
              " '__repr__',\n",
              " '__reversed__',\n",
              " '__rmul__',\n",
              " '__setattr__',\n",
              " '__setitem__',\n",
              " '__sizeof__',\n",
              " '__str__',\n",
              " '__subclasshook__',\n",
              " 'append',\n",
              " 'clear',\n",
              " 'copy',\n",
              " 'count',\n",
              " 'extend',\n",
              " 'index',\n",
              " 'insert',\n",
              " 'pop',\n",
              " 'remove',\n",
              " 'reverse',\n",
              " 'sort']"
            ]
          },
          "execution_count": 181,
          "metadata": {},
          "output_type": "execute_result"
        }
      ],
      "source": [
        "dir(a)"
      ]
    },
    {
      "cell_type": "code",
      "execution_count": null,
      "metadata": {
        "id": "3_sbrFJd5BmU",
        "outputId": "a0d90b01-8434-4f56-9236-1ec6427a3b20"
      },
      "outputs": [
        {
          "name": "stdout",
          "output_type": "stream",
          "text": [
            "[1, 2, 3, 4]\n"
          ]
        }
      ],
      "source": [
        "print(a)"
      ]
    },
    {
      "cell_type": "code",
      "execution_count": null,
      "metadata": {
        "id": "0CzFcAk35BmU"
      },
      "outputs": [],
      "source": [
        "a=list()"
      ]
    },
    {
      "cell_type": "code",
      "execution_count": null,
      "metadata": {
        "id": "Lt3Qe-Tc5BmU",
        "outputId": "58b7fb1c-ca55-4265-ea79-956f9a7c89f2"
      },
      "outputs": [
        {
          "data": {
            "text/plain": [
              "list"
            ]
          },
          "execution_count": 11,
          "metadata": {},
          "output_type": "execute_result"
        }
      ],
      "source": [
        "type(a)"
      ]
    },
    {
      "cell_type": "code",
      "execution_count": null,
      "metadata": {
        "id": "I-tkQzLO5BmV"
      },
      "outputs": [],
      "source": [
        "#perosn1 iss  an object or instance\n",
        "person1=Person()"
      ]
    },
    {
      "cell_type": "code",
      "execution_count": null,
      "metadata": {
        "id": "EyfsMPt15BmV",
        "outputId": "ae3ec361-9f03-4a5b-f357-bb50b762f726"
      },
      "outputs": [
        {
          "name": "stdout",
          "output_type": "stream",
          "text": [
            "<__main__.Person object at 0x0000018899887250>\n"
          ]
        }
      ],
      "source": [
        "print(person1)"
      ]
    },
    {
      "cell_type": "code",
      "execution_count": null,
      "metadata": {
        "id": "GU7G21yF5BmV"
      },
      "outputs": [],
      "source": [
        "person1.name=\"KRish\""
      ]
    },
    {
      "cell_type": "code",
      "execution_count": null,
      "metadata": {
        "id": "aVmOWfP05BmV",
        "outputId": "df69cd4b-268c-449e-dbad-81875dd95efc"
      },
      "outputs": [
        {
          "name": "stdout",
          "output_type": "stream",
          "text": [
            "KRish\n"
          ]
        }
      ],
      "source": [
        "print(person1.name)"
      ]
    },
    {
      "cell_type": "code",
      "execution_count": null,
      "metadata": {
        "id": "_62k30TU5BmW"
      },
      "outputs": [],
      "source": [
        "person1.lastname=\"Naik\""
      ]
    },
    {
      "cell_type": "code",
      "execution_count": null,
      "metadata": {
        "id": "ZsIcoUJM5BmW"
      },
      "outputs": [],
      "source": [
        "person1=Person()"
      ]
    },
    {
      "cell_type": "code",
      "execution_count": null,
      "metadata": {
        "id": "h6EuL5fh5BmW",
        "outputId": "1d0a0445-8bc8-49b8-d469-fd152afaafba"
      },
      "outputs": [
        {
          "data": {
            "text/plain": [
              "['__class__',\n",
              " '__delattr__',\n",
              " '__dict__',\n",
              " '__dir__',\n",
              " '__doc__',\n",
              " '__eq__',\n",
              " '__format__',\n",
              " '__ge__',\n",
              " '__getattribute__',\n",
              " '__gt__',\n",
              " '__hash__',\n",
              " '__init__',\n",
              " '__init_subclass__',\n",
              " '__le__',\n",
              " '__lt__',\n",
              " '__module__',\n",
              " '__ne__',\n",
              " '__new__',\n",
              " '__reduce__',\n",
              " '__reduce_ex__',\n",
              " '__repr__',\n",
              " '__setattr__',\n",
              " '__sizeof__',\n",
              " '__str__',\n",
              " '__subclasshook__',\n",
              " '__weakref__',\n",
              " 'lastname',\n",
              " 'name']"
            ]
          },
          "execution_count": 16,
          "metadata": {},
          "output_type": "execute_result"
        }
      ],
      "source": [
        "dir(person1)"
      ]
    },
    {
      "cell_type": "code",
      "execution_count": null,
      "metadata": {
        "id": "svgdC86d5BmW"
      },
      "outputs": [],
      "source": [
        "class Person:\n",
        "    def __init__(self,name1,last_name1):\n",
        "        self.name=name1\n",
        "        self.last_name=last_name1\n",
        "\n",
        "\n",
        ""
      ]
    },
    {
      "cell_type": "code",
      "execution_count": null,
      "metadata": {
        "id": "pbKZv4_X5BmW"
      },
      "outputs": [],
      "source": [
        "person=Person(\"Krish\",\"Naik\")"
      ]
    },
    {
      "cell_type": "code",
      "execution_count": null,
      "metadata": {
        "id": "QvOW1i4j5BmW",
        "outputId": "b93131e0-e774-4ea8-999c-f4df95fe2290"
      },
      "outputs": [
        {
          "name": "stdout",
          "output_type": "stream",
          "text": [
            "Krish\n"
          ]
        }
      ],
      "source": [
        "print(person.name)"
      ]
    },
    {
      "cell_type": "code",
      "execution_count": null,
      "metadata": {
        "id": "_d1A3-Pc5BmW"
      },
      "outputs": [],
      "source": [
        "person2=Person(\"Shreyas\",\"Nair\")"
      ]
    },
    {
      "cell_type": "code",
      "execution_count": null,
      "metadata": {
        "id": "aaCxTN375BmW",
        "outputId": "e4c745af-5bc7-4b0a-8dd7-999750a38e60"
      },
      "outputs": [
        {
          "data": {
            "text/plain": [
              "'Shreyas'"
            ]
          },
          "execution_count": 22,
          "metadata": {},
          "output_type": "execute_result"
        }
      ],
      "source": [
        "person2.name"
      ]
    },
    {
      "cell_type": "code",
      "execution_count": null,
      "metadata": {
        "id": "0Gj3fI5R5BmW",
        "outputId": "bfd9c352-6489-447c-921a-cccec4d20ad7"
      },
      "outputs": [
        {
          "data": {
            "text/plain": [
              "<__main__.Person at 0x18899974760>"
            ]
          },
          "execution_count": 25,
          "metadata": {},
          "output_type": "execute_result"
        }
      ],
      "source": [
        "person2"
      ]
    },
    {
      "cell_type": "code",
      "execution_count": null,
      "metadata": {
        "id": "urBdBTql5BmX",
        "outputId": "f23870b6-06b0-4065-dd14-6b4729fded94"
      },
      "outputs": [
        {
          "data": {
            "text/plain": [
              "'Nair'"
            ]
          },
          "execution_count": 24,
          "metadata": {},
          "output_type": "execute_result"
        }
      ],
      "source": [
        "person2.last_name"
      ]
    },
    {
      "cell_type": "code",
      "execution_count": null,
      "metadata": {
        "id": "cfNHM1b65BmX"
      },
      "outputs": [],
      "source": [
        "class Person:\n",
        "    def __init__(self,name1,last_name1):\n",
        "        self.name=name1\n",
        "        self.last_name=last_name1\n",
        "    def __str__(self):\n",
        "        return f\"The name is {self.name} and last name is {self.last_name}\"\n"
      ]
    },
    {
      "cell_type": "code",
      "execution_count": null,
      "metadata": {
        "id": "x5Ies33E5BmX",
        "outputId": "e564981a-6464-432e-d5aa-4ead882a02e3"
      },
      "outputs": [
        {
          "name": "stdout",
          "output_type": "stream",
          "text": [
            "The name is Krish and last name is NAik\n"
          ]
        }
      ],
      "source": [
        "person1=Person(\"Krish\",\"NAik\")\n",
        "print(person1)"
      ]
    },
    {
      "cell_type": "code",
      "execution_count": null,
      "metadata": {
        "id": "Y9yvJRVh5BmX",
        "outputId": "9dcecf5b-248f-4875-8c77-2af12ed1c772"
      },
      "outputs": [
        {
          "data": {
            "text/plain": [
              "'Hello how are you Krish'"
            ]
          },
          "execution_count": 33,
          "metadata": {},
          "output_type": "execute_result"
        }
      ],
      "source": [
        "\"Hello how are you {}\".format(\"Krish\")"
      ]
    },
    {
      "cell_type": "code",
      "execution_count": null,
      "metadata": {
        "id": "jfixqPfI5BmX"
      },
      "outputs": [],
      "source": [
        "## Bank account class and add infor like account number,account hoilde rname and balance"
      ]
    },
    {
      "cell_type": "code",
      "execution_count": null,
      "metadata": {
        "id": "UnjhyBJV5BmX"
      },
      "outputs": [],
      "source": [
        "class BankAccount:\n",
        "    def __init__(self,account_number,account_holder,balance=0):\n",
        "        self.account_number=account_number\n",
        "        self.account_holder=account_holder\n",
        "        self.balance=balance\n",
        "\n",
        "    def deposit(self,deposit):\n",
        "        self.balance=self.balance + deposit\n",
        "\n",
        "    def withdrawl(self,withdrawl_amt):\n",
        "        if withdrawl_amt <= self.balance:\n",
        "            self.balance=self.balance - withdrawl_amt\n",
        "        else:\n",
        "            print(\"The Balance is less\")\n",
        "\n",
        "\n",
        ""
      ]
    },
    {
      "cell_type": "code",
      "execution_count": null,
      "metadata": {
        "id": "oHDO5v_05BmX"
      },
      "outputs": [],
      "source": [
        "account1=BankAccount(\"1234\",\"Krish Naik\",0)"
      ]
    },
    {
      "cell_type": "code",
      "execution_count": null,
      "metadata": {
        "id": "x-tjZSp35BmX",
        "outputId": "1c83e86b-4698-4c0c-d8d0-729a569c4e1c"
      },
      "outputs": [
        {
          "data": {
            "text/plain": [
              "['__class__',\n",
              " '__delattr__',\n",
              " '__dict__',\n",
              " '__dir__',\n",
              " '__doc__',\n",
              " '__eq__',\n",
              " '__format__',\n",
              " '__ge__',\n",
              " '__getattribute__',\n",
              " '__gt__',\n",
              " '__hash__',\n",
              " '__init__',\n",
              " '__init_subclass__',\n",
              " '__le__',\n",
              " '__lt__',\n",
              " '__module__',\n",
              " '__ne__',\n",
              " '__new__',\n",
              " '__reduce__',\n",
              " '__reduce_ex__',\n",
              " '__repr__',\n",
              " '__setattr__',\n",
              " '__sizeof__',\n",
              " '__str__',\n",
              " '__subclasshook__',\n",
              " '__weakref__',\n",
              " 'account_holder',\n",
              " 'account_number',\n",
              " 'balance',\n",
              " 'deposit',\n",
              " 'withdrawl']"
            ]
          },
          "execution_count": 55,
          "metadata": {},
          "output_type": "execute_result"
        }
      ],
      "source": [
        "dir(account1)"
      ]
    },
    {
      "cell_type": "code",
      "execution_count": null,
      "metadata": {
        "id": "TeGYdzlf5BmX",
        "outputId": "043f693a-92e5-4996-ea58-a5af2d854bc8"
      },
      "outputs": [
        {
          "name": "stdout",
          "output_type": "stream",
          "text": [
            "0\n"
          ]
        }
      ],
      "source": [
        "print(account1.balance)"
      ]
    },
    {
      "cell_type": "code",
      "execution_count": null,
      "metadata": {
        "id": "84I5fVh15BmY"
      },
      "outputs": [],
      "source": [
        "account1.deposit(100)"
      ]
    },
    {
      "cell_type": "code",
      "execution_count": null,
      "metadata": {
        "id": "t2vzAnDj5BmY",
        "outputId": "878da09b-37e7-4207-c6c7-f65d8f7be880"
      },
      "outputs": [
        {
          "name": "stdout",
          "output_type": "stream",
          "text": [
            "100\n"
          ]
        }
      ],
      "source": [
        "print(account1.balance)"
      ]
    },
    {
      "cell_type": "code",
      "execution_count": null,
      "metadata": {
        "id": "l4eZh7tC5BmY"
      },
      "outputs": [],
      "source": [
        "account1.withdrawl(50)"
      ]
    },
    {
      "cell_type": "code",
      "execution_count": null,
      "metadata": {
        "id": "hAKv1v9B5BmY",
        "outputId": "768278e3-da49-4866-eab7-b0a7f3aeff3c"
      },
      "outputs": [
        {
          "name": "stdout",
          "output_type": "stream",
          "text": [
            "50\n"
          ]
        }
      ],
      "source": [
        "print(account1.balance)"
      ]
    },
    {
      "cell_type": "code",
      "execution_count": null,
      "metadata": {
        "id": "ojld9IjS5BmY"
      },
      "outputs": [],
      "source": [
        "class BankAccount:\n",
        "    def __init__(self,account_number, account_holder_name, balance=0):\n",
        "        self.account_number=account_number\n",
        "        self.account_holder_name=account_holder_name\n",
        "        self.balance=balance\n",
        "    def deposit(self,amount):\n",
        "        self.balance+=amount\n"
      ]
    },
    {
      "cell_type": "code",
      "execution_count": null,
      "metadata": {
        "id": "FmtjtA9t5BmY"
      },
      "outputs": [],
      "source": [
        "class BankAccount :\n",
        "    def __init__(self,account_number,account_holder_name,balance = 0):\n",
        "        self.account_number = account_number\n",
        "        self.account_holder_name = account_holder_name\n",
        "        self.balance = balance\n",
        "\n",
        "\n",
        "    def deposit (self,amount):\n",
        "        self.balance += amount\n",
        "\n",
        "\n",
        "    def withdrawl(self,withdrawl):\n",
        "        self.balance = self.balance - withdrawl\n",
        "\n",
        "\n",
        "\n"
      ]
    },
    {
      "cell_type": "code",
      "execution_count": null,
      "metadata": {
        "id": "nIkM8T5s5BmY",
        "outputId": "506e02bf-f997-4803-9236-bf9da0e104f3"
      },
      "outputs": [
        {
          "name": "stdout",
          "output_type": "stream",
          "text": [
            "0\n"
          ]
        }
      ],
      "source": [
        "account1 = BankAccount(\"1234\",\"Shruti Joshi\",0)\n",
        "print(account1.balance)"
      ]
    },
    {
      "cell_type": "code",
      "execution_count": null,
      "metadata": {
        "id": "ZS4qDuCQ5BmY"
      },
      "outputs": [],
      "source": [
        "# Bank Account Class\n",
        "class Bank_account:\n",
        "    def __init__(self, account_holdername, balance, account_number, account_type):\n",
        "        self.account_holdername=account_holdername\n",
        "        self.account_number=account_number\n",
        "        self.balance=balance\n",
        "        self.account_type=account_type\n",
        "\n",
        "    def deposit(self, amount):\n",
        "        self.balance += amount\n",
        "        print(f\"your new balance is {self.balance}\" )\n",
        "\n",
        "    def widrawal(self, amount):\n",
        "        if amount <= self.balance:\n",
        "            self.balance -= amount\n",
        "            print(f\"Your updated balance is {self.balance}\")\n",
        "        else:\n",
        "            print(\"You do not have sufficient funds\")\n",
        "\n",
        "\n"
      ]
    },
    {
      "cell_type": "code",
      "execution_count": null,
      "metadata": {
        "id": "yNElF6Yp5BmY"
      },
      "outputs": [],
      "source": [
        "## Class represting a to do list\n",
        "\n",
        "class TodoList:\n",
        "    ## constructor\n",
        "    def __init__(self,owner):\n",
        "        self.owner=owner\n",
        "        self.tasks=[]\n",
        "\n",
        "    def add_task(self,task):\n",
        "        self.tasks.append(task)\n",
        "\n",
        "    def complete_task(self,task):\n",
        "        if task in self.tasks:\n",
        "            self.tasks.remove(task)\n",
        "            print(f\"Task '{task}' completed\")\n",
        "        else:\n",
        "            print(\"The task is not found\")\n",
        "\n",
        "    def display_tasks(self):\n",
        "        print(f\"The todo task of {self.owner}:\")\n",
        "        for task in self.tasks:\n",
        "            print(task)\n",
        "\n",
        ""
      ]
    },
    {
      "cell_type": "code",
      "execution_count": null,
      "metadata": {
        "id": "w0Qt_Ksw5BmY"
      },
      "outputs": [],
      "source": [
        "krish=TodoList(\"Krissh\")"
      ]
    },
    {
      "cell_type": "code",
      "execution_count": null,
      "metadata": {
        "id": "jJirSppv5Bmc",
        "outputId": "a031d533-47be-4c7e-d906-72e67f8ed931"
      },
      "outputs": [
        {
          "data": {
            "text/plain": [
              "[]"
            ]
          },
          "execution_count": 72,
          "metadata": {},
          "output_type": "execute_result"
        }
      ],
      "source": [
        "krish.tasks"
      ]
    },
    {
      "cell_type": "code",
      "execution_count": null,
      "metadata": {
        "id": "hc4TH5-75Bmc"
      },
      "outputs": [],
      "source": [
        "krish.add_task(\"I have to teach at 9am with real wworld examples\")"
      ]
    },
    {
      "cell_type": "code",
      "execution_count": null,
      "metadata": {
        "id": "K4x9rGpS5Bmc",
        "outputId": "6d49871c-3e8b-4201-cd26-3905c8eb6966"
      },
      "outputs": [
        {
          "name": "stdout",
          "output_type": "stream",
          "text": [
            "The todo task of Krissh:\n",
            "I have to teach at 9am with real wworld examples\n"
          ]
        }
      ],
      "source": [
        "krish.display_tasks()"
      ]
    },
    {
      "cell_type": "code",
      "execution_count": null,
      "metadata": {
        "id": "32vN3MpQ5Bmc"
      },
      "outputs": [],
      "source": [
        "krish.add_task(\"12pm need to have lunch\")"
      ]
    },
    {
      "cell_type": "code",
      "execution_count": null,
      "metadata": {
        "id": "GH3mQUE65Bmd",
        "outputId": "cce23dd9-a80f-4c65-bbfb-88818056fef6"
      },
      "outputs": [
        {
          "name": "stdout",
          "output_type": "stream",
          "text": [
            "The todo task of Krissh:\n",
            "I have to teach at 9am with real wworld examples\n",
            "12pm need to have lunch\n"
          ]
        }
      ],
      "source": [
        "krish.display_tasks()"
      ]
    },
    {
      "cell_type": "code",
      "execution_count": null,
      "metadata": {
        "id": "TzwEaDe85Bmd",
        "outputId": "bb94d644-217a-401f-ba20-73772ceee19b"
      },
      "outputs": [
        {
          "name": "stdout",
          "output_type": "stream",
          "text": [
            "Task '12pm need to have lunch' completed\n"
          ]
        }
      ],
      "source": [
        "krish.complete_task(\"12pm need to have lunch\")"
      ]
    },
    {
      "cell_type": "code",
      "execution_count": null,
      "metadata": {
        "id": "yZ411FgY5Bmd",
        "outputId": "61a9d6a2-7d2e-4df2-cc2b-995a688bad40"
      },
      "outputs": [
        {
          "name": "stdout",
          "output_type": "stream",
          "text": [
            "The todo task of Krissh:\n",
            "I have to teach at 9am with real wworld examples\n"
          ]
        }
      ],
      "source": [
        "krish.display_tasks()"
      ]
    },
    {
      "cell_type": "code",
      "execution_count": null,
      "metadata": {
        "id": "kHk3xYBz5Bmd"
      },
      "outputs": [],
      "source": [
        "# To-Do List\n",
        "\n",
        "class ToDoList:\n",
        "    # constructor\n",
        "    def __init__(self, owner):\n",
        "        self.owner = owner\n",
        "        self.tasks=[]\n",
        "    def add_task(self,task):\n",
        "        self.tasks.append(task)\n",
        "    def complete_task(self,task):\n",
        "        if task in self.tasks:\n",
        "            self.tasks.remove(task)\n",
        "            print(f\"Task '{task}' Completed\")\n",
        "        else:\n",
        "            print(f\"The task '{task}' not found\")\n",
        "    def display_task(self):\n",
        "        print(f\" The ToDo tasks of {self.owner}:\")\n",
        "        for task in self.tasks:\n",
        "            print(task)\n"
      ]
    },
    {
      "cell_type": "code",
      "execution_count": null,
      "metadata": {
        "id": "x6XBlTQH5Bmd"
      },
      "outputs": [],
      "source": [
        "class BankAccount:\n",
        "    def __init__(self,account_number1,account_holder1,balance1=0):\n",
        "        self.account_number=account_number1\n",
        "        self.account_holder=account_holder1\n",
        "        self.balance=balance1\n",
        "\n",
        "    def deposit(self,amount):\n",
        "        self.balance+=amount\n",
        "\n",
        "    def withdraw(self,amount):\n",
        "        if amount<=self.balance:\n",
        "            self.balance-=amount\n",
        "        else:\n",
        "            print(\"Insufficient funds\")"
      ]
    },
    {
      "cell_type": "code",
      "execution_count": null,
      "metadata": {
        "id": "plwm0d3g5Bmd"
      },
      "outputs": [],
      "source": [
        "person1=BankAccount(1234,\"Krish Naik\")"
      ]
    },
    {
      "cell_type": "code",
      "execution_count": null,
      "metadata": {
        "id": "xj99gxr45Bmd",
        "outputId": "152fb3cf-e1a2-48ad-f1a0-052b2f46f1ed"
      },
      "outputs": [
        {
          "data": {
            "text/plain": [
              "0"
            ]
          },
          "execution_count": 109,
          "metadata": {},
          "output_type": "execute_result"
        }
      ],
      "source": [
        "person1.balance"
      ]
    },
    {
      "cell_type": "code",
      "execution_count": null,
      "metadata": {
        "id": "uAxMRAi85Bme"
      },
      "outputs": [],
      "source": [
        "person1.deposit(100)"
      ]
    },
    {
      "cell_type": "code",
      "execution_count": null,
      "metadata": {
        "id": "cTXjSphh5Bme"
      },
      "outputs": [],
      "source": [
        "person1.withdraw(90)"
      ]
    },
    {
      "cell_type": "code",
      "execution_count": null,
      "metadata": {
        "id": "ItQqZ9zg5Bme",
        "outputId": "b47d7e1f-3859-4e27-bc15-290838740048"
      },
      "outputs": [
        {
          "data": {
            "text/plain": [
              "10"
            ]
          },
          "execution_count": 114,
          "metadata": {},
          "output_type": "execute_result"
        }
      ],
      "source": [
        "person1.balance"
      ]
    },
    {
      "cell_type": "code",
      "execution_count": null,
      "metadata": {
        "id": "v1vkvHOp5Bme"
      },
      "outputs": [],
      "source": [
        "class Car:\n",
        "    def __init__(self,brand,model,color):\n",
        "        self.brand=brand\n",
        "        self.model=model\n",
        "        self.color=color\n",
        "    def start_engine(self):\n",
        "        print(f\"The {self.color} {self.brand} {self.model} is starting\")\n",
        "\n",
        "    def stop_enginer(self):\n",
        "        print(f\"The {self.color} {self.brand} {self.model} is stoppinf\")\n",
        ""
      ]
    },
    {
      "cell_type": "code",
      "execution_count": null,
      "metadata": {
        "id": "oKusoGwO5Bme"
      },
      "outputs": [],
      "source": [
        "car1=Car(\"BMW\",\"EV\",\"Red\")"
      ]
    },
    {
      "cell_type": "code",
      "execution_count": null,
      "metadata": {
        "id": "uP_kr-eY5Bme",
        "outputId": "8bdac81f-fd7e-4afd-91c9-60aa2e0c8316"
      },
      "outputs": [
        {
          "data": {
            "text/plain": [
              "'BMW'"
            ]
          },
          "execution_count": 117,
          "metadata": {},
          "output_type": "execute_result"
        }
      ],
      "source": [
        "car1.brand"
      ]
    },
    {
      "cell_type": "code",
      "execution_count": null,
      "metadata": {
        "id": "ZVA5djIZ5Bme"
      },
      "outputs": [],
      "source": [
        "class Mobilephone:\n",
        "    def __init__(self,brand,model,processor,price):\n",
        "        self.brand=brand\n",
        "        self.model=model\n",
        "        self.processor=processor\n",
        "        self.price=price\n",
        "\n",
        "    def make_calls(self,number):\n",
        "        print(f\"calling {number} with {self.brand} and {self.model}\")\n",
        "\n",
        "    def send_messages(self,number,message):\n",
        "        print(f\"sending message to {number} : {message}\")\n",
        "\n",
        "    def end_call(self,number):\n",
        "        print(f\"Call is disconnected with {number}\")\n",
        "\n",
        "\n"
      ]
    },
    {
      "cell_type": "code",
      "execution_count": null,
      "metadata": {
        "id": "7vTL5RVR5Bme"
      },
      "outputs": [],
      "source": [
        "samsung=Mobilephone(\"Samsung\",\"Note 3\",\"8 gen 2\",125000)"
      ]
    },
    {
      "cell_type": "code",
      "execution_count": null,
      "metadata": {
        "id": "LQEASNn35Bme",
        "outputId": "d114ca67-199b-4986-b9f3-a22fe497b99e"
      },
      "outputs": [
        {
          "name": "stdout",
          "output_type": "stream",
          "text": [
            "calling 9894737282 with Samsung and Note 3\n"
          ]
        }
      ],
      "source": [
        "samsung.make_calls(9894737282)"
      ]
    },
    {
      "cell_type": "code",
      "execution_count": null,
      "metadata": {
        "id": "1lk7ZuUR5Bmf"
      },
      "outputs": [],
      "source": [
        "class MobilePhone:\n",
        "\n",
        "    def __init__(self,brand,model,processor,price):\n",
        "        self.brand = brand\n",
        "        self.model = model\n",
        "        self.processor = processor\n",
        "        self.price = price\n",
        "\n",
        "    def make_calls(self,number):\n",
        "        print(f\"Calling the number {number}\")\n",
        "\n",
        "    def play_games(self):\n",
        "        print(\"Gaming begins\")\n",
        "\n",
        "    def send_messages(self,number):\n",
        "        print(f\"Sending message to {number}\")\n"
      ]
    },
    {
      "cell_type": "code",
      "execution_count": null,
      "metadata": {
        "id": "KNx_00gN5Bmf",
        "outputId": "f27616d6-686c-4d1e-8900-e8f5e89cdd09"
      },
      "outputs": [
        {
          "data": {
            "text/plain": [
              "<__main__.MobilePhone at 0x1889b9df5b0>"
            ]
          },
          "execution_count": 130,
          "metadata": {},
          "output_type": "execute_result"
        }
      ],
      "source": [
        "MobilePhone(\"Samsung\",\"Note 3\",\"8 gen 2\",125000)"
      ]
    },
    {
      "cell_type": "code",
      "execution_count": null,
      "metadata": {
        "id": "lMYmOUH85Bmf"
      },
      "outputs": [],
      "source": [
        "class Laptop :\n",
        "    def __init__(self,model,brand):\n",
        "        self.model = model\n",
        "        self.brand = brand\n",
        "\n",
        "    def power_on(self) :\n",
        "        print(f\"This {self.brand} {self.model} is now switched on\")\n",
        "\n",
        "    def power_off(self) :\n",
        "        print(f\"This {self.brand} {self.model} is now switched off\")\n",
        "\n"
      ]
    },
    {
      "cell_type": "code",
      "execution_count": null,
      "metadata": {
        "id": "B-miA2Oc5Bmf",
        "outputId": "51683e54-3428-4dc8-9053-ae1538d37a7a"
      },
      "outputs": [
        {
          "data": {
            "text/plain": [
              "['__class__',\n",
              " '__delattr__',\n",
              " '__dict__',\n",
              " '__dir__',\n",
              " '__doc__',\n",
              " '__eq__',\n",
              " '__format__',\n",
              " '__ge__',\n",
              " '__getattribute__',\n",
              " '__gt__',\n",
              " '__hash__',\n",
              " '__init__',\n",
              " '__init_subclass__',\n",
              " '__le__',\n",
              " '__lt__',\n",
              " '__module__',\n",
              " '__ne__',\n",
              " '__new__',\n",
              " '__reduce__',\n",
              " '__reduce_ex__',\n",
              " '__repr__',\n",
              " '__setattr__',\n",
              " '__sizeof__',\n",
              " '__str__',\n",
              " '__subclasshook__',\n",
              " '__weakref__',\n",
              " 'brand',\n",
              " 'end_call',\n",
              " 'make_calls',\n",
              " 'model',\n",
              " 'price',\n",
              " 'processor',\n",
              " 'send_messages']"
            ]
          },
          "execution_count": 133,
          "metadata": {},
          "output_type": "execute_result"
        }
      ],
      "source": [
        "dir(samsung)"
      ]
    },
    {
      "cell_type": "code",
      "execution_count": null,
      "metadata": {
        "id": "Mj9pV9mp5Bmf"
      },
      "outputs": [],
      "source": [
        "## VLC media player\n",
        "## Camera\n",
        "## Games\n",
        "## Dishwasher\n",
        "## Washing machine"
      ]
    },
    {
      "cell_type": "code",
      "execution_count": null,
      "metadata": {
        "id": "5RyGkUlC5Bmf"
      },
      "outputs": [],
      "source": [
        "class ToDo:\n",
        "    def __init__(self,name):\n",
        "        self.name=name\n",
        "        self.list_dict=[]\n",
        "    def add_task(self,task,time):\n",
        "        TT_dic={\"task\":task,\"time\":time}\n",
        "        self.list_dict.append(TT_dic)\n",
        "    def remove_task(self,task):\n",
        "        for i in range(len(self.list_dict)):\n",
        "            print(i)\n",
        "            if task == (self.list_dict[i][\"task\"]):\n",
        "                print(self.list_dict)\n",
        "                self.list_dict.pop(i)\n",
        "\n",
        "\n",
        "\n",
        "\n",
        ""
      ]
    },
    {
      "cell_type": "code",
      "execution_count": null,
      "metadata": {
        "id": "I0RP68ym5Bmf"
      },
      "outputs": [],
      "source": [
        "lst=['A','B']"
      ]
    },
    {
      "cell_type": "code",
      "execution_count": null,
      "metadata": {
        "id": "Dh-UEeYR5Bmf"
      },
      "outputs": [],
      "source": [
        "lst.pop()"
      ]
    },
    {
      "cell_type": "code",
      "execution_count": null,
      "metadata": {
        "id": "ZRxGSTTw5Bmf"
      },
      "outputs": [],
      "source": [
        "todo=ToDo(\"Krish\")\n"
      ]
    },
    {
      "cell_type": "code",
      "execution_count": null,
      "metadata": {
        "id": "qwS50Wo95Bmg"
      },
      "outputs": [],
      "source": [
        "todo.add_task('A','9 am')"
      ]
    },
    {
      "cell_type": "code",
      "execution_count": null,
      "metadata": {
        "id": "dlG2Pcor5Bmg",
        "outputId": "a6aa8916-45b4-4cfc-8dad-2fb2b015a059"
      },
      "outputs": [
        {
          "data": {
            "text/plain": [
              "[{'task': 'A', 'time': '9 am'}]"
            ]
          },
          "execution_count": 148,
          "metadata": {},
          "output_type": "execute_result"
        }
      ],
      "source": [
        "todo.list_dict"
      ]
    },
    {
      "cell_type": "code",
      "execution_count": null,
      "metadata": {
        "id": "ok8qrllj5Bmh",
        "outputId": "0312eeb4-6c4f-4e92-b783-7011a5af849e"
      },
      "outputs": [
        {
          "name": "stdout",
          "output_type": "stream",
          "text": [
            "{'task': 'A', 'time': '9 am'}\n"
          ]
        }
      ],
      "source": [
        "for i in todo.list_dict:\n",
        "    print(i)\n",
        "\n",
        "    if 'A'=="
      ]
    },
    {
      "cell_type": "code",
      "execution_count": null,
      "metadata": {
        "id": "cO6q-jTe5Bmh",
        "outputId": "da54ef8b-8bbe-4dd5-d062-fb333bb4d6b9"
      },
      "outputs": [
        {
          "name": "stdout",
          "output_type": "stream",
          "text": [
            "0\n",
            "[{'task': 'A', 'time': '9 am'}]\n"
          ]
        },
        {
          "ename": "ValueError",
          "evalue": "list.remove(x): x not in list",
          "output_type": "error",
          "traceback": [
            "\u001b[1;31m---------------------------------------------------------------------------\u001b[0m",
            "\u001b[1;31mValueError\u001b[0m                                Traceback (most recent call last)",
            "\u001b[1;32m<ipython-input-149-bc23445fd3b8>\u001b[0m in \u001b[0;36m<module>\u001b[1;34m\u001b[0m\n\u001b[1;32m----> 1\u001b[1;33m \u001b[0mtodo\u001b[0m\u001b[1;33m.\u001b[0m\u001b[0mremove_task\u001b[0m\u001b[1;33m(\u001b[0m\u001b[1;34m'A'\u001b[0m\u001b[1;33m)\u001b[0m\u001b[1;33m\u001b[0m\u001b[1;33m\u001b[0m\u001b[0m\n\u001b[0m",
            "\u001b[1;32m<ipython-input-145-ec5c5fb37521>\u001b[0m in \u001b[0;36mremove_task\u001b[1;34m(self, task)\u001b[0m\n\u001b[0;32m     11\u001b[0m             \u001b[1;32mif\u001b[0m \u001b[0mtask\u001b[0m \u001b[1;33m==\u001b[0m \u001b[1;33m(\u001b[0m\u001b[0mself\u001b[0m\u001b[1;33m.\u001b[0m\u001b[0mlist_dict\u001b[0m\u001b[1;33m[\u001b[0m\u001b[0mi\u001b[0m\u001b[1;33m]\u001b[0m\u001b[1;33m[\u001b[0m\u001b[1;34m\"task\"\u001b[0m\u001b[1;33m]\u001b[0m\u001b[1;33m)\u001b[0m\u001b[1;33m:\u001b[0m\u001b[1;33m\u001b[0m\u001b[1;33m\u001b[0m\u001b[0m\n\u001b[0;32m     12\u001b[0m                 \u001b[0mprint\u001b[0m\u001b[1;33m(\u001b[0m\u001b[0mself\u001b[0m\u001b[1;33m.\u001b[0m\u001b[0mlist_dict\u001b[0m\u001b[1;33m)\u001b[0m\u001b[1;33m\u001b[0m\u001b[1;33m\u001b[0m\u001b[0m\n\u001b[1;32m---> 13\u001b[1;33m                 \u001b[0mself\u001b[0m\u001b[1;33m.\u001b[0m\u001b[0mlist_dict\u001b[0m\u001b[1;33m.\u001b[0m\u001b[0mremove\u001b[0m\u001b[1;33m(\u001b[0m\u001b[0mi\u001b[0m\u001b[1;33m)\u001b[0m\u001b[1;33m\u001b[0m\u001b[1;33m\u001b[0m\u001b[0m\n\u001b[0m\u001b[0;32m     14\u001b[0m \u001b[1;33m\u001b[0m\u001b[0m\n\u001b[0;32m     15\u001b[0m \u001b[1;33m\u001b[0m\u001b[0m\n",
            "\u001b[1;31mValueError\u001b[0m: list.remove(x): x not in list"
          ]
        }
      ],
      "source": [
        "todo.remove_task('A')"
      ]
    },
    {
      "cell_type": "code",
      "execution_count": null,
      "metadata": {
        "id": "EoTUgqPH5Bmi"
      },
      "outputs": [],
      "source": [
        "class Mobile_phone:\n",
        "    def __init__(self, brand, model, processor, price):\n",
        "\n",
        "        self.brand = brand\n",
        "        self.model = model\n",
        "        self.processor = processor\n",
        "        self.price = price\n",
        "\n",
        "    def make_calls(self, number):\n",
        "        print(f'calling {number} with {self.brand} having {self.model} with {self.processor} of {self.price} is making call')"
      ]
    },
    {
      "cell_type": "code",
      "execution_count": null,
      "metadata": {
        "id": "fRgIbVHP5Bmi"
      },
      "outputs": [],
      "source": [
        "class Mobile_phone:\n",
        "  def __init__(self, brand, model, processor, price):\n",
        "    self.brand = brand\n",
        "    self.model = model\n",
        "    self.processor = processor\n",
        "    self.price = price\n",
        "\n",
        "    def make_calls(self, number):\n",
        "      print(f'calling {number} with {self.brand} having {self.model} with {self.processor} of {self.price} is making call')\n",
        "\n",
        "    def send_msgs(self, number, message):\n",
        "      print(f'sending {message} to {number} with {self.brand} having {self.model} with {self.processor} of {self.price} is making call')\n",
        "\n",
        "    def end_calls(self,number):\n",
        "      print(f'calling {number} with {self.brand} having {self.model} with {self.processor} of {self.price} is ending call')\n"
      ]
    },
    {
      "cell_type": "code",
      "execution_count": null,
      "metadata": {
        "id": "NGKpde5W5Bmi"
      },
      "outputs": [],
      "source": [
        "mobile = Mobile_phone('Apple','i14','macos', 12000)\n"
      ]
    },
    {
      "cell_type": "code",
      "execution_count": null,
      "metadata": {
        "id": "G7wvNZEb5Bmi",
        "outputId": "8a81ed7e-3549-48f9-e8d4-0e26132a3c87"
      },
      "outputs": [
        {
          "data": {
            "text/plain": [
              "'Apple'"
            ]
          },
          "execution_count": 158,
          "metadata": {},
          "output_type": "execute_result"
        }
      ],
      "source": [
        "mobile.brand"
      ]
    },
    {
      "cell_type": "code",
      "execution_count": null,
      "metadata": {
        "id": "zoBxh_nV5Bmi",
        "outputId": "2cde5dcd-1423-47d2-f997-9d7e9fb66f56"
      },
      "outputs": [
        {
          "name": "stdout",
          "output_type": "stream",
          "text": [
            "calling 9876543210 with Apple having i14 with macos of 12000 is making call\n"
          ]
        }
      ],
      "source": [
        "mobile.make_calls(9876543210)\n"
      ]
    },
    {
      "cell_type": "code",
      "execution_count": null,
      "metadata": {
        "id": "QHC4223L5Bmi"
      },
      "outputs": [],
      "source": [
        "class BankAccount:\n",
        "    def __init__(self,account_number,account_holder,balance=0):\n",
        "        self.account_number=account_number\n",
        "        self.account_holder=account_holder\n",
        "        self.balance=balance\n",
        "\n",
        "    def deposit(self,amount):\n",
        "        self.balance+=amount\n"
      ]
    },
    {
      "cell_type": "code",
      "execution_count": null,
      "metadata": {
        "id": "2JGdTYfC5Bmi"
      },
      "outputs": [],
      "source": [
        "person1=BankAccount('123','Krish')"
      ]
    },
    {
      "cell_type": "code",
      "execution_count": null,
      "metadata": {
        "id": "rc4cTLer5Bmj"
      },
      "outputs": [],
      "source": [
        "person1.deposit(100)"
      ]
    },
    {
      "cell_type": "code",
      "execution_count": null,
      "metadata": {
        "id": "uUHOGj2R5Bmj"
      },
      "outputs": [],
      "source": [
        "class MobilePhone:\n",
        "    def __init__(self,brand,model,processor,price):\n",
        "        self.brand=brand\n",
        "        self.model=model\n",
        "        self.processor=processor\n",
        "        self.price=price\n",
        "\n",
        "    def make_calls(self,number):\n",
        "        print(f\"Calling {number} with {self.brand} and {self.model}\")\n",
        "\n",
        "    def sending_messages(self,number,message):\n",
        "        print(f\"Sending message to {number} : {message}\")\n",
        "\n",
        "    def end_call(self,number):\n",
        "        print(f\"Call is disconnected with {number}\")\n"
      ]
    },
    {
      "cell_type": "code",
      "execution_count": null,
      "metadata": {
        "id": "UpNuz-0e5Bmj"
      },
      "outputs": [],
      "source": [
        "mobile = MobilePhone('Apple','i14','macos', 12000)"
      ]
    },
    {
      "cell_type": "code",
      "execution_count": null,
      "metadata": {
        "id": "Eh0k0kk05Bmj",
        "outputId": "2530536e-9bb2-4a12-b364-667af904de46"
      },
      "outputs": [
        {
          "name": "stdout",
          "output_type": "stream",
          "text": [
            "Calling 93783643 with Apple and i14\n"
          ]
        }
      ],
      "source": [
        "mobile.make_calls(93783643)"
      ]
    },
    {
      "cell_type": "code",
      "execution_count": null,
      "metadata": {
        "id": "s7Z51eEN5Bmj"
      },
      "outputs": [],
      "source": [
        "# To-Do List\n",
        "\n",
        "class ToDoList:\n",
        "    # constructor\n",
        "    def __init__(self, owner):\n",
        "        self.owner = owner\n",
        "        self.tasks=[]\n",
        "    def add_task(self,task):\n",
        "        self.tasks.append(task)\n",
        "    def complete_task(self,task):\n",
        "        if task in self.tasks:\n",
        "            self.tasks.remove(task)\n",
        "            print(f\"Task '{task}' Completed\")\n",
        "        else:\n",
        "            print(f\"The task '{task}' not found\")\n",
        "    def display_task(self):\n",
        "        print(f\" The ToDo tasks of {self.owner}:\")\n",
        "        for task in self.tasks:\n",
        "            print(task)\n"
      ]
    },
    {
      "cell_type": "code",
      "execution_count": null,
      "metadata": {
        "id": "FgKQJJ1O5Bmj"
      },
      "outputs": [],
      "source": [
        "todo=TodoList('Krish')"
      ]
    },
    {
      "cell_type": "code",
      "execution_count": null,
      "metadata": {
        "id": "wR6UhxxV5Bmj"
      },
      "outputs": [],
      "source": [
        "todo.add_task('A')"
      ]
    },
    {
      "cell_type": "code",
      "execution_count": null,
      "metadata": {
        "id": "1waP0Fg15Bmj",
        "outputId": "28a5d4bc-3b6d-4c73-9f20-786a45ff6be1"
      },
      "outputs": [
        {
          "name": "stdout",
          "output_type": "stream",
          "text": [
            "The todo task of Krish:\n",
            "A\n"
          ]
        }
      ],
      "source": [
        "todo.display_tasks()"
      ]
    },
    {
      "cell_type": "code",
      "execution_count": null,
      "metadata": {
        "id": "Oc_zfkWC5Bmk"
      },
      "outputs": [],
      "source": [
        "class Laptop:\n",
        "    def __init__(self,brand,price):\n",
        "        self.brand=brand\n",
        "        self.price=price\n",
        "    def power_on(self):\n",
        "        print(f\"This {self.brand} is now switched on\")\n",
        "    def power_off(self):\n",
        "        print(f\"This {self.brand} is now switched off\")\n"
      ]
    },
    {
      "cell_type": "code",
      "execution_count": null,
      "metadata": {
        "id": "W65oEAHX5Bmk"
      },
      "outputs": [],
      "source": [
        "lap=Laptop('lenovo',35000)"
      ]
    },
    {
      "cell_type": "code",
      "execution_count": null,
      "metadata": {
        "id": "iNqO_kgc5Bmk",
        "outputId": "63dfb281-1a47-424b-b13a-189afd79ef31"
      },
      "outputs": [
        {
          "name": "stdout",
          "output_type": "stream",
          "text": [
            "This lenovo is now switched off\n"
          ]
        }
      ],
      "source": [
        "lap.power_off()"
      ]
    },
    {
      "cell_type": "code",
      "execution_count": null,
      "metadata": {
        "id": "FCBlVvu65Bmk"
      },
      "outputs": [],
      "source": [
        "class BankAccount:\n",
        "    def __init__(self,account_number,account_holder,balance=0):\n",
        "        self.account_number=account_number\n",
        "        self.account_holder=account_holder\n",
        "        self.balance=balance\n",
        "    def deposit(self,amount):\n",
        "        self.balance+=amount\n",
        "    def withdrawl(self, withdrawl_amt):\n",
        "        if withdrawl_amt <= self.balance:\n",
        "            self.balance=self.balance - withdrawl_amt\n",
        "        else:\n",
        "            print(\"you have less balance\")\n"
      ]
    },
    {
      "cell_type": "code",
      "execution_count": null,
      "metadata": {
        "id": "GdjVwR0g5Bmk"
      },
      "outputs": [],
      "source": [
        "account1 = BankAccount(\"1234\",\"varsha\",0)\n",
        "account1.deposit(110)\n",
        "account1.withdrawl(90)\n"
      ]
    },
    {
      "cell_type": "code",
      "execution_count": null,
      "metadata": {
        "id": "GKBqIxW45Bmk",
        "outputId": "7d2ae019-65ee-480d-e3ae-969e00a45821"
      },
      "outputs": [
        {
          "data": {
            "text/plain": [
              "<__main__.BankAccount at 0x1889bf8a2b0>"
            ]
          },
          "execution_count": 189,
          "metadata": {},
          "output_type": "execute_result"
        }
      ],
      "source": [
        "account1"
      ]
    },
    {
      "cell_type": "code",
      "execution_count": null,
      "metadata": {
        "id": "FnSRkoVY5Bmk"
      },
      "outputs": [],
      "source": [
        "account1.deposit(100)"
      ]
    },
    {
      "cell_type": "code",
      "execution_count": null,
      "metadata": {
        "id": "sa_g5STi5Bmk"
      },
      "outputs": [],
      "source": [
        "account1.withdrawl(90)"
      ]
    },
    {
      "cell_type": "code",
      "execution_count": null,
      "metadata": {
        "id": "7db5uWPF5Bmk",
        "outputId": "b3e04d7e-a4e2-473f-ac2f-9fa3c8978d34"
      },
      "outputs": [
        {
          "name": "stdout",
          "output_type": "stream",
          "text": [
            "My task list:\n",
            "\n",
            "11.15-> class\n",
            "11.0-> tea break\n",
            "1.0-> Lunch\n",
            "Task Lunch\n",
            "class\n",
            "Key does not exist\n",
            "tea break\n",
            "Key does not exist\n",
            "Lunch\n"
          ]
        }
      ],
      "source": [
        "class to_dolist:\n",
        "    def __init__(self):\n",
        "        self.task_list={}\n",
        "\n",
        "    def add_task(self,task,time):\n",
        "        if task not in self.task_list.items():\n",
        "            self.task_list.update({task:time})\n",
        "        else:\n",
        "            self.task_list[key]=task\n",
        "            self.task_list[time]=time\n",
        "    def display(self):\n",
        "        for key,value in self.task_list.items():\n",
        "            print(f\"{value}-> {key}\")\n",
        "    def remove_task(self,task):\n",
        "        print(\"Task\",task)\n",
        "        for key,value in self.task_list.items():\n",
        "            print(key)\n",
        "            if(task==key):\n",
        "              self.task_list.pop(key)\n",
        "              break\n",
        "            else:\n",
        "              print(\"Key does not exist\")\n",
        "\n",
        "\n",
        "print(f\"My task list:\\n\")\n",
        "person1=to_dolist()\n",
        "\n",
        "person1.add_task(\"class\",9.00)\n",
        "person1.add_task(\"tea break\",11.00)\n",
        "person1.add_task(\"class\",11.15)\n",
        "person1.add_task(\"Lunch\",1.00)\n",
        "person1.display()\n",
        "person1.remove_task(\"Lunch\")\n"
      ]
    },
    {
      "cell_type": "code",
      "execution_count": null,
      "metadata": {
        "id": "hKByphAP5Bml"
      },
      "outputs": [],
      "source": [
        "class ToDoList:\n",
        "    def __init__(self,owner):\n",
        "        self.owner=owner\n",
        "        self.tasks=[]\n",
        "\n",
        "    def add_task(self,task):\n",
        "        self.tasks.append(task)\n",
        "\n",
        "    def complete_task(self,task):\n",
        "        if task in self.tasks:\n",
        "            self.tasks.remove(task)\n",
        "            print(f\"Task '{task}' completed\")\n",
        "        else:\n",
        "            print(\"The task is not found\")\n",
        "\n",
        "    def display_tasks(self):\n",
        "        print(f\"The todo task of {self.owner}:\")\n",
        "        for task in self.tasks:\n",
        "            print(task)\n"
      ]
    },
    {
      "cell_type": "code",
      "execution_count": null,
      "metadata": {
        "id": "xziqTPZp5Bml"
      },
      "outputs": [],
      "source": [
        "Tejaswi=ToDoList(\"Tejasswi\")\n"
      ]
    },
    {
      "cell_type": "code",
      "execution_count": null,
      "metadata": {
        "id": "ikFnYrgo5Bml",
        "outputId": "20f2a355-004d-4427-ceea-fe0710897730"
      },
      "outputs": [
        {
          "data": {
            "text/plain": [
              "[]"
            ]
          },
          "execution_count": 198,
          "metadata": {},
          "output_type": "execute_result"
        }
      ],
      "source": [
        "Tejaswi.tasks"
      ]
    },
    {
      "cell_type": "code",
      "execution_count": null,
      "metadata": {
        "id": "8_HGQztc5Bml"
      },
      "outputs": [],
      "source": [
        "|"
      ]
    }
  ],
  "metadata": {
    "kernelspec": {
      "display_name": "Python 3",
      "language": "python",
      "name": "python3"
    },
    "language_info": {
      "codemirror_mode": {
        "name": "ipython",
        "version": 3
      },
      "file_extension": ".py",
      "mimetype": "text/x-python",
      "name": "python",
      "nbconvert_exporter": "python",
      "pygments_lexer": "ipython3",
      "version": "3.8.5"
    },
    "colab": {
      "provenance": []
    }
  },
  "nbformat": 4,
  "nbformat_minor": 0
}